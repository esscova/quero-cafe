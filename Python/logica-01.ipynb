{
 "cells": [
  {
   "cell_type": "markdown",
   "id": "edb4924f-4c18-41f8-a52c-42f24e86506c",
   "metadata": {},
   "source": [
    "# Lógica de Programação\n",
    "\n",
    "## Atividades\n",
    "1. Crie um programa que receba dois números inteiros e imprima a soma deles.\n",
    "2. Faça um programa que leia um número e diga se ele é par ou ímpar.\n",
    "3. Crie um algoritmo que leia a idade de uma pessoa e informe se ela é maior de idade (18 anos ou mais).\n",
    "4. Faça um programa que leia uma lista de 5 números, armazene-os em uma lista e, em seguida, mostre-os em ordem inversa.\n",
    "5. Desenvolva um programa que calcule o fatorial de um número informado pelo usuário.\n",
    "6. Implemente um programa que leia 10 números e conte quantos são positivos.\n",
    "7. Faça um código que receba um número inteiro e diga se ele é primo.\n",
    "8. Crie um programa que receba uma frase e conte quantas vogais ela possui.\n",
    "9. Faça um programa que gere e imprima a sequência de Fibonacci até o n-ésimo termo informado pelo usuário.\n",
    "10. Crie um programa que leia o nome de 3 alunos e suas respectivas notas, depois mostre o nome do aluno com a maior nota.\n"
   ]
  },
  {
   "cell_type": "markdown",
   "id": "9f8b5bda-3517-4f03-9955-2c11ba4e8179",
   "metadata": {},
   "source": [
    "**Crie um programa que receba dois números inteiros e imprima a soma deles.**"
   ]
  },
  {
   "cell_type": "code",
   "execution_count": 13,
   "id": "5425505e-cbd6-4cd7-b95e-518aeea67ebe",
   "metadata": {},
   "outputs": [
    {
     "name": "stdin",
     "output_type": "stream",
     "text": [
      "Digite o primeiro número:  8\n",
      "Digite o segundo número:  8\n"
     ]
    },
    {
     "name": "stdout",
     "output_type": "stream",
     "text": [
      "\n",
      "Resultado: 8 + 8 = 16\n",
      "\n",
      "\n",
      "Resultado: 9 + 9 = 18\n",
      "\n"
     ]
    }
   ],
   "source": [
    "def soma(num1:int, num2:int) -> None:\n",
    "    print(f\"\\nResultado: {num1} + {num2} = {num1+num2}\\n\")\n",
    "\n",
    "a = int(input(\"Digite o primeiro número: \"))\n",
    "b = int(input(\"Digite o segundo número: \"))    \n",
    "\n",
    "soma(a,b)\n",
    "soma(9,9)"
   ]
  },
  {
   "cell_type": "markdown",
   "id": "d7c05046-ad7a-4a55-8a2b-9d8839aca631",
   "metadata": {},
   "source": [
    "**Faça um programa que leia um número e diga se ele é par ou ímpar.**"
   ]
  },
  {
   "cell_type": "code",
   "execution_count": 12,
   "id": "d9f9dc0e-f254-42ac-af4c-35af3ca6bd91",
   "metadata": {},
   "outputs": [
    {
     "name": "stdin",
     "output_type": "stream",
     "text": [
      "Digite um número:  8\n"
     ]
    },
    {
     "name": "stdout",
     "output_type": "stream",
     "text": [
      "\n",
      "O número 8 é par.\n",
      "\n"
     ]
    }
   ],
   "source": [
    "n = int(input(\"Digite um número: \"))\n",
    "if n % 2 == 0:\n",
    "    print(f\"\\nO número {n} é par.\\n\")\n",
    "else:\n",
    "    print(f\"\\nO número {n} é ímpar.\\n\")"
   ]
  },
  {
   "cell_type": "markdown",
   "id": "184c30d1-45a2-4da2-b99a-acc9c9fc6ba3",
   "metadata": {},
   "source": [
    "**Crie um algoritmo que leia a idade de uma pessoa e informe se ela é maior de idade (18 anos ou mais).**"
   ]
  },
  {
   "cell_type": "code",
   "execution_count": 16,
   "id": "73086486-0b8e-44b4-99a3-90dcac8ef8e3",
   "metadata": {},
   "outputs": [
    {
     "name": "stdin",
     "output_type": "stream",
     "text": [
      "Digite sua idade:  88\n"
     ]
    },
    {
     "name": "stdout",
     "output_type": "stream",
     "text": [
      "\n",
      "Maior de idade.\n",
      "\n"
     ]
    }
   ],
   "source": [
    "idade = int(input(\"Digite sua idade: \"))\n",
    "res = \"\\nMaior de idade.\\n\" if idade >= 18 else \"\\nMenor de idade\\n\"\n",
    "print(res)"
   ]
  },
  {
   "cell_type": "markdown",
   "id": "de8cb35e-81b7-41e4-8525-8bd9a04100c2",
   "metadata": {},
   "source": [
    "**Faça um programa que leia uma lista de 5 números, armazene-os em uma lista e, em seguida, mostre-os em ordem inversa.**"
   ]
  },
  {
   "cell_type": "code",
   "execution_count": 20,
   "id": "4ddcfd23-eb66-469f-a02f-a36a24084e29",
   "metadata": {},
   "outputs": [
    {
     "name": "stdin",
     "output_type": "stream",
     "text": [
      "Digite o 1º número:  1\n",
      "Digite o 2º número:  2\n",
      "Digite o 3º número:  3\n",
      "Digite o 4º número:  4\n",
      "Digite o 5º número:  5\n"
     ]
    },
    {
     "name": "stdout",
     "output_type": "stream",
     "text": [
      "\n",
      "Ordem inversa: [5, 4, 3, 2, 1]\n",
      "\n"
     ]
    }
   ],
   "source": [
    "lista = [\n",
    "    int(input(f\"Digite o {i+1}º número: \")) for i in range(5)\n",
    "]\n",
    "print(f\"\\nOrdem inversa: {lista[::-1]}\\n\")"
   ]
  },
  {
   "cell_type": "markdown",
   "id": "a6105b0d-5212-4371-8ba8-ee8df2d9dbb9",
   "metadata": {},
   "source": [
    "**Desenvolva um programa que calcule o fatorial de um número informado pelo usuário.**"
   ]
  },
  {
   "cell_type": "code",
   "execution_count": 21,
   "id": "869dd178-df65-420b-96cf-636b25129b40",
   "metadata": {},
   "outputs": [
    {
     "name": "stdin",
     "output_type": "stream",
     "text": [
      "Digite um número para cálcular o fatorial:  8\n"
     ]
    },
    {
     "name": "stdout",
     "output_type": "stream",
     "text": [
      "\n",
      "Fatorial de 8 = 40320\n",
      "\n"
     ]
    }
   ],
   "source": [
    "n = int(input(\"Digite um número para cálcular o fatorial: \"))\n",
    "fatorial = 1\n",
    "\n",
    "for i in range(1, n+1):\n",
    "    fatorial *= i\n",
    "\n",
    "print(f\"\\nFatorial de {n} = {fatorial}\\n\")"
   ]
  },
  {
   "cell_type": "markdown",
   "id": "e850dade-66df-4c31-a75f-0095c92f7bcd",
   "metadata": {},
   "source": [
    "**Implemente um programa que leia 10 números e conte quantos são positivos.**"
   ]
  },
  {
   "cell_type": "code",
   "execution_count": 22,
   "id": "e727e2cb-89fb-446c-bce8-90ee081485e9",
   "metadata": {},
   "outputs": [
    {
     "name": "stdin",
     "output_type": "stream",
     "text": [
      "Digite um número:  -8\n",
      "Digite um número:  -5\n",
      "Digite um número:  -2\n",
      "Digite um número:  1\n",
      "Digite um número:  3\n",
      "Digite um número:  5\n",
      "Digite um número:  7\n",
      "Digite um número:  9\n",
      "Digite um número:  0\n",
      "Digite um número:  1\n"
     ]
    },
    {
     "name": "stdout",
     "output_type": "stream",
     "text": [
      "\n",
      "Quantidade de números positivos: 6\n",
      "\n"
     ]
    }
   ],
   "source": [
    "positivos = 0\n",
    "for i in range(10):\n",
    "    n = int(input(\"Digite um número: \"))\n",
    "    if n > 0:\n",
    "        positivos += 1\n",
    "print(f\"\\nQuantidade de números positivos: {positivos}\\n\")"
   ]
  },
  {
   "cell_type": "markdown",
   "id": "087b3d47-832e-493d-92ea-f7b6bdccd1b2",
   "metadata": {},
   "source": [
    "**Faça um código que receba um número inteiro e diga se ele é primo.**"
   ]
  },
  {
   "cell_type": "code",
   "execution_count": 23,
   "id": "25755b46-d995-4ba3-b082-41622a554000",
   "metadata": {},
   "outputs": [
    {
     "name": "stdin",
     "output_type": "stream",
     "text": [
      "Digite um número:  8\n"
     ]
    },
    {
     "name": "stdout",
     "output_type": "stream",
     "text": [
      "O número não é primo\n"
     ]
    }
   ],
   "source": [
    "n = int(input(\"Digite um número: \"))\n",
    "primo = True\n",
    "if n < 2:\n",
    "    primo = False\n",
    "else:\n",
    "    for i in range(2, int(n**0.5) + 1):\n",
    "        if n % i == 0:\n",
    "            primo = False\n",
    "            break\n",
    "if primo:\n",
    "    print(\"O número é primo\")\n",
    "else:\n",
    "    print(\"O número não é primo\")"
   ]
  },
  {
   "cell_type": "markdown",
   "id": "000ba8fe-58e8-4ef1-82f5-43b3202a5359",
   "metadata": {},
   "source": [
    "**Crie um programa que receba uma frase e conte quantas vogais ela possui.**"
   ]
  },
  {
   "cell_type": "code",
   "execution_count": 24,
   "id": "93f5da2e-0e3c-4015-bd87-8503f663ba2c",
   "metadata": {},
   "outputs": [
    {
     "name": "stdin",
     "output_type": "stream",
     "text": [
      "Digite uma frase:  Se nevasse o povo usava esqui?\n"
     ]
    },
    {
     "name": "stdout",
     "output_type": "stream",
     "text": [
      "Quantidade de vogais: 13\n"
     ]
    }
   ],
   "source": [
    "frase = input(\"Digite uma frase: \").lower()\n",
    "vogais = 'aeiou'\n",
    "quantidade = sum(1 for letra in frase if letra in vogais)\n",
    "print(\"Quantidade de vogais:\", quantidade)"
   ]
  },
  {
   "cell_type": "markdown",
   "id": "bd69e695-6409-4b4b-a965-6f3968cb5713",
   "metadata": {},
   "source": [
    "**Faça um programa que gere e imprima a sequência de Fibonacci até o n-ésimo termo informado pelo usuário.**"
   ]
  },
  {
   "cell_type": "code",
   "execution_count": 3,
   "id": "7d9daa6e-ba6f-4010-8c67-9f484bda9b28",
   "metadata": {},
   "outputs": [
    {
     "name": "stdin",
     "output_type": "stream",
     "text": [
      "Quantos termos da sequencia de fibonacci:  8\n"
     ]
    },
    {
     "name": "stdout",
     "output_type": "stream",
     "text": [
      "Sequencia de fibonacci: 0 1 1 2 3 5 8 13 "
     ]
    }
   ],
   "source": [
    "# sequencia: 0 1 1 2 3 5 ...\n",
    "# os dois primeiros sao fixos 0 e 1, do terceiro em diante soma dois anteriores\n",
    "\n",
    "n = int(input(\"Quantos termos da sequencia de fibonacci: \"))\n",
    "primeiro_termo = 0\n",
    "segundo_termo = 1\n",
    "\n",
    "if n <= 0:print(\"Inserir inteiro positivo.\")\n",
    "elif n == 1 : print(f'Sequencia de fibonacci: {primeiro_termo}')\n",
    "else:\n",
    "    print('Sequencia de fibonacci:', primeiro_termo, segundo_termo, end=' ')\n",
    "    for _ in range(2,n): # pula os 2 primeiros\n",
    "        termo_atual = primeiro_termo + segundo_termo\n",
    "        print(termo_atual, end=' ')\n",
    "        primeiro_termo = segundo_termo\n",
    "        segundo_termo = termo_atual\n"
   ]
  },
  {
   "cell_type": "markdown",
   "id": "712bf974-dd6c-4a64-af27-32ac459073b0",
   "metadata": {},
   "source": [
    "**Crie um programa que leia o nome de 3 alunos e suas respectivas notas, depois mostre o nome do aluno com a maior nota.**"
   ]
  },
  {
   "cell_type": "code",
   "execution_count": 5,
   "id": "73da1863-4929-4116-9362-041f34526516",
   "metadata": {},
   "outputs": [
    {
     "name": "stdin",
     "output_type": "stream",
     "text": [
      "Digite o nome do aluno:  Eddie Vedder \n",
      "Digite a nota do aluno:  8.3\n",
      "Digite o nome do aluno:  James Hetfield\n",
      "Digite a nota do aluno:  1.3\n",
      "Digite o nome do aluno:  Ozzy Osbourne\n",
      "Digite a nota do aluno:  10\n"
     ]
    },
    {
     "name": "stdout",
     "output_type": "stream",
     "text": [
      "\n",
      "O aluno com a maior nota é: Ozzy Osbourne\n"
     ]
    }
   ],
   "source": [
    "# dict com nome e nota\n",
    "aluno_relatorio = {\n",
    "    input(\"Digite o nome do aluno: \"): float(input(\"Digite a nota do aluno: \")) for _ in range(3)\n",
    "}\n",
    "melhor_aluno = max(aluno_relatorio, key=aluno_relatorio.get) #valor max\n",
    "\n",
    "print(f\"\\nO aluno com a maior nota é: {melhor_aluno}\")"
   ]
  }
 ],
 "metadata": {
  "kernelspec": {
   "display_name": "Python 3 (ipykernel)",
   "language": "python",
   "name": "python3"
  },
  "language_info": {
   "codemirror_mode": {
    "name": "ipython",
    "version": 3
   },
   "file_extension": ".py",
   "mimetype": "text/x-python",
   "name": "python",
   "nbconvert_exporter": "python",
   "pygments_lexer": "ipython3",
   "version": "3.12.2"
  }
 },
 "nbformat": 4,
 "nbformat_minor": 5
}
