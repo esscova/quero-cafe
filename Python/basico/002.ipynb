{
 "cells": [
  {
   "cell_type": "markdown",
   "id": "ca967d36-3ecb-4539-b464-4f8f04edd172",
   "metadata": {},
   "source": [
    "# Basico \n",
    "1. Carregue a data atual do computador e, com base na data atual, apresente a data de dois dias no futuro.\n",
    "2. Carregue a data atual do computador e apresente somente a data"
   ]
  },
  {
   "cell_type": "markdown",
   "id": "2c236edb-d7b6-48f1-8853-731aa806b367",
   "metadata": {},
   "source": [
    "**Carregue a data atual do computador e, com base na data atual, apresente a data de dois dias no futuro.**"
   ]
  },
  {
   "cell_type": "code",
   "execution_count": 18,
   "id": "c5432bdf-e947-4451-b12d-4152c054302d",
   "metadata": {},
   "outputs": [
    {
     "data": {
      "text/plain": [
       "(datetime.date(2025, 7, 22), datetime.date(2025, 7, 24))"
      ]
     },
     "execution_count": 18,
     "metadata": {},
     "output_type": "execute_result"
    }
   ],
   "source": [
    "import datetime\n",
    "\n",
    "data_atual = datetime.date.today()\n",
    "data_futuro = data_atual + datetime.timedelta(2)\n",
    "#data_futuro = data_atual.replace(data_atual.day+2) # tb serve\n",
    "\n",
    "data_atual, data_futuro"
   ]
  },
  {
   "cell_type": "markdown",
   "id": "0a46b538-38ec-4c83-8731-88dee2a32dae",
   "metadata": {},
   "source": [
    "**Carregue a data atual do computador e apresente somente a data.**"
   ]
  },
  {
   "cell_type": "code",
   "execution_count": 22,
   "id": "0e2fcdf0-58fb-4335-a958-5b1405b365e0",
   "metadata": {},
   "outputs": [
    {
     "data": {
      "text/plain": [
       "datetime.date(2025, 7, 22)"
      ]
     },
     "execution_count": 22,
     "metadata": {},
     "output_type": "execute_result"
    }
   ],
   "source": [
    "import datetime\n",
    "datetime.date.today()"
   ]
  }
 ],
 "metadata": {
  "kernelspec": {
   "display_name": "Python 3 (ipykernel)",
   "language": "python",
   "name": "python3"
  },
  "language_info": {
   "codemirror_mode": {
    "name": "ipython",
    "version": 3
   },
   "file_extension": ".py",
   "mimetype": "text/x-python",
   "name": "python",
   "nbconvert_exporter": "python",
   "pygments_lexer": "ipython3",
   "version": "3.12.2"
  }
 },
 "nbformat": 4,
 "nbformat_minor": 5
}
